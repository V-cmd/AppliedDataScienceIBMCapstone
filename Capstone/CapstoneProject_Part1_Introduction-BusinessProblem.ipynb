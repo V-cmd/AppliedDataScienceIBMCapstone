{
 "cells": [
  {
   "cell_type": "markdown",
   "metadata": {},
   "source": [
    "<h1 align=\"center\"><span style=\"color:red\">Capstone Project - The Battle of Neighbourhoods</span></h1> "
   ]
  },
  {
   "cell_type": "markdown",
   "metadata": {},
   "source": [
    "<img src=\"madrid.jpg\" style=\"width:600px;height:400px\"/>\n",
    "\n",
    "   [Source]('https://madriddiferente.com/recomendaciones/planes-de-ocio-nocturnos-madrid/')"
   ]
  },
  {
   "cell_type": "markdown",
   "metadata": {},
   "source": [
    "## Background:\n",
    "Madrid, being Spain's capital, is an extremely packed location. For better or worse, opening a restaurant can be an extremely complicated task, especially when finsing a location. I will use all of the skills learned in IBM's Coursera Data Science course, including Data Visualization, Analysis, Advanced Machine learning techniques, among others.\n",
    "\n",
    "I'm a Spaniard living in China married to a Colombian, who is considering a restaurnat in Spain. Taking this into account, I was faced with two choices, find the best location for a Chinese restauran in Madrid, or a Colombian one. Considering Madrid has many Chinese restuarnats, I decided to investigate the Latino side of food"
   ]
  },
  {
   "cell_type": "markdown",
   "metadata": {},
   "source": [
    "## Data:\n",
    "There are two main sources for this project: Foursquare API and Madrid's Townhall Official Portal. \n",
    "\n",
    "Foursquare: This will give me the neccessary information about venues in Madrid. We can access location, ratings, density, type of venue, etc. Basially all the necessatry information concerning Madrid's leisure.\n",
    "\n",
    "Madrid's Townhall Official Portal: A main aspect of this project is population density. In order to open a Latin restaurant we must figure out which areas of Madrid house what nationalities. Using this, we do not only find the best location for a restaurant, but in general any type of recreational venue, for population density is crutial when opening a new venue.\n",
    "\n",
    "\n"
   ]
  },
  {
   "cell_type": "markdown",
   "metadata": {},
   "source": [
    "## Target Audiance:\n",
    "Even though I will be focuring this project on restuarnats, this code can be applied to virtually anyone who needs access to Madrid's foreign population density. If this applies to you, I wish you the best of luck. "
   ]
  }
 ],
 "metadata": {
  "kernelspec": {
   "display_name": "Python 3",
   "language": "python",
   "name": "python3"
  },
  "language_info": {
   "codemirror_mode": {
    "name": "ipython",
    "version": 3
   },
   "file_extension": ".py",
   "mimetype": "text/x-python",
   "name": "python",
   "nbconvert_exporter": "python",
   "pygments_lexer": "ipython3",
   "version": "3.7.4"
  }
 },
 "nbformat": 4,
 "nbformat_minor": 2
}
