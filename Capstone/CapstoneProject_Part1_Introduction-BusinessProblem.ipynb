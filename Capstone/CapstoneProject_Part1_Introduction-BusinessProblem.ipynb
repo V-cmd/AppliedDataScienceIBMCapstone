{
 "cells": [
  {
   "cell_type": "markdown",
   "metadata": {},
   "source": [
    "<h1 align=\"center\"><span style=\"color:red\">Capstone Project - The Battle of Neighbourhoods</span></h1> "
   ]
  },
  {
   "cell_type": "markdown",
   "metadata": {},
   "source": [
    "<img src=\"barcelona1.jpg\" style=\"width:600px;height:400px\"/>\n",
    "\n",
    "<h4 align=\"center\">Source: https://www.freepik.es/fotos-premium/arc-triomf-barcelona-noche_4730073.htm</h4> "
   ]
  },
  {
   "cell_type": "markdown",
   "metadata": {},
   "source": [
    "## Background:\n",
    "Cataluña is one of the most densly hotel-packed regions in the world. With a total of 3,040 hotels and over 300,000 beds. Cataloña also holds one of the leading regions in this sector, Barcelona. (https://www.albawaba.com/business/dubai-makes-it-worlds-top-10-cities-most-hotel-rooms-955290). However, for the average tourist, the amount of stars should not define whether a hotel is suitable or not, which is why I created this code. I will analize the dentify of high standard hotels in Cataluña and pair the information with venues thatt surround those regions. By doing this, I am hoping to find the ultimate tourist region in Cataluña.\\\n",
    "\n",
    "With an outstanding 10,991 million euros \"in terms of international tourist spending figues\", Cataluña accounts \"for 22.4% of tourist spending in Spain between January and July\", 2017. (https://barcelonacatalonia.eu/archivos/5761) Consideing this, it is important to find the most comfortable, packed and interesting region possible.\n",
    "\n",
    "#### <span style=\"color:red\">Note: I will categorze \"High standard hotels\" as 4 stars and above</span>"
   ]
  },
  {
   "cell_type": "markdown",
   "metadata": {},
   "source": [
    "## Problem description:\n",
    "### In this assignment, I will try to answer the following questions:\n",
    " Q1. What region of Cataluña has the most high standatd hotels?\\\n",
    " Q2. What region of Cataluña accounts for the highest tourist rate?\\\n",
    " Q3. Consideing the first two questions, what venues surround these areas?\\\n",
    " Q4.  Which area accounts for the least amount of tourists and why?\\\n",
    " Q5. What region of Cataluña offers the most to tourists?\\ \n",
    "\n",
    "\n"
   ]
  },
  {
   "cell_type": "markdown",
   "metadata": {},
   "source": [
    "## Target Audiance\n",
    "<b>Travellers</b>: Consideing I will filter hotels into a higher range, the concept \"Travellers\" is aimed mainly at couples that wish to go on a retreat and make the most out of the experience\\\n",
    "<b>Businessman/woman</b>: Working does not have to be about stress. By filteing these locations, a venue-ful area will offest the most recreational experience and pair it perfectly with work, availability and any urgent needs that may arise "
   ]
  },
  {
   "cell_type": "markdown",
   "metadata": {},
   "source": [
    "<h1 align=\"center\"><span style=\"color:green\">Data Requirements</span></h1> "
   ]
  },
  {
   "cell_type": "markdown",
   "metadata": {},
   "source": [
    "Region of interest: <b>Cataluña</b>\\\n",
    "I will use the following data sets:\\\n",
    "<b></b>\n",
    "<b>1.</b> [Barcelona Hotel Dataset](https://www.idescat.cat/pub/?id=aec&n=542&lang=es): This dataset will fix the parametes for the hotel density in each region.\\\n",
    "<b>2.</b> [Foursquare API](https://developer.foursquare.com/docs/places-api): This API will help me archive all the data necessary, namely, venues, hotels, rating, hospitals, points of interest, etc.\n"
   ]
  },
  {
   "cell_type": "code",
   "execution_count": null,
   "metadata": {},
   "outputs": [],
   "source": []
  }
 ],
 "metadata": {
  "kernelspec": {
   "display_name": "Python 3",
   "language": "python",
   "name": "python3"
  },
  "language_info": {
   "codemirror_mode": {
    "name": "ipython",
    "version": 3
   },
   "file_extension": ".py",
   "mimetype": "text/x-python",
   "name": "python",
   "nbconvert_exporter": "python",
   "pygments_lexer": "ipython3",
   "version": "3.7.4"
  }
 },
 "nbformat": 4,
 "nbformat_minor": 2
}
